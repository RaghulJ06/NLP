{
  "cells": [
    {
      "cell_type": "markdown",
      "metadata": {
        "id": "view-in-github",
        "colab_type": "text"
      },
      "source": [
        "<a href=\"https://colab.research.google.com/github/RaghulJ06/NLP/blob/main/Sentiment_Analysis_NLP_IMBD_Movie_Review_1.ipynb\" target=\"_parent\"><img src=\"https://colab.research.google.com/assets/colab-badge.svg\" alt=\"Open In Colab\"/></a>"
      ]
    },
    {
      "cell_type": "markdown",
      "id": "9a538c3d",
      "metadata": {
        "id": "9a538c3d"
      },
      "source": [
        "# Sentiment Analysis (NLP)\n",
        "\n",
        "- IMBD Movie Review"
      ]
    },
    {
      "cell_type": "markdown",
      "id": "1988c0fc",
      "metadata": {
        "id": "1988c0fc"
      },
      "source": [
        "### Import necessary libraries:"
      ]
    },
    {
      "cell_type": "code",
      "execution_count": null,
      "id": "f7f5eb96",
      "metadata": {
        "id": "f7f5eb96"
      },
      "outputs": [],
      "source": [
        "import pandas as pd\n",
        "import numpy as np\n",
        "import nltk\n",
        "from nltk.corpus import stopwords\n",
        "from sklearn.model_selection import train_test_split\n",
        "from sklearn.feature_extraction.text import CountVectorizer\n",
        "from sklearn.naive_bayes import MultinomialNB\n",
        "from sklearn.metrics import accuracy_score, classification_report"
      ]
    },
    {
      "cell_type": "markdown",
      "id": "7fdf491f",
      "metadata": {
        "id": "7fdf491f"
      },
      "source": [
        "### Load the dataset and explore it"
      ]
    },
    {
      "cell_type": "code",
      "execution_count": null,
      "id": "8edc1ad6",
      "metadata": {
        "colab": {
          "base_uri": "https://localhost:8080/"
        },
        "id": "8edc1ad6",
        "outputId": "110b8554-4639-4801-a633-c3734261b819"
      },
      "outputs": [
        {
          "output_type": "stream",
          "name": "stdout",
          "text": [
            "                                                                                                                                                                                                                                                                                                                                                                                                                                                                                                                                                                                                                                                                                                                                                                                                                                                                                                                                                                                                                                                                                                                                                                                                                                                                                                                                                                                                                          review  \\\n",
            "\"One of the other reviewers has mentioned that ... as this is exactly what happened with me.<br />... which set in right from the word GO. Trust me      this is not a show for the faint hearted or tim... sex or violence. Its is hardcore                   in the classic use of the word.<br /><br />It i... an experimental section of the prison where all... so privacy is not high on the agenda. Em City i... Muslims                                            gangstas                                            Latinos                                           Christians                                         Italians                                           Irish and more....so scuffles                      death stares                                       dodgy dealings and shady agreements are never f... forget charm                                       forget romance...OZ doesn't mess around. The fi... I couldn't say I was ready for it                  but as I watched more                              I developed a taste for Oz                         and got accustomed to the high levels of graphi... but injustice (crooked guards who'll be sold ou... inmates who'll kill on order and get away with it  well mannered                                      middle class inmates being turned into prison b...   you may become comfortable with what is uncom...   \n",
            "\"Gamers: DR is not a fancy made movie              it's more like amateur video. Horrible magic ef... really fake fireball                               terribly made dungeon                              castle                                             village...... sword                                axe                                                shield                                             robe                                               plate..... okok... everything. You will need ab...  then you will get 105 minutes of fun.<br /><br... none of my friends play RPG and I always fancy ... dices                                              game set                                           etc etc etc; You hear terms like \"\"fighter\"\"       \"\"wizard\"\"                                         \"\"hit point\"\"                                      \"\"level\"\"                                          \"\"character\"\"                                      \"\"flaming hand\"\"                                   \"\"Chaotic Evil\"\".<br /><br />What RPG fancy me ... not bonded by software RPG. Gamers: DR provide ... you wont know what happen next and it probably ... which make you feel you really participle in th... but in short                                       Gamers: DR is a must watch movie for RPG lovers...          I'm sure you still get many fun from it.\"   \n",
            "\"First                                             let me just comment on what I liked about the m... and very rarely did I feel like I was watching ... that is the last nice thing I have to say about... I would just like everyone reading this to take... but four major complaints jump to mind. My firs... I almost got up and left the theater. Singer co... but when Superman is exposed to even a small am... and then go to sleep in kryptonite pajamas. Tha... he was just a scientist. And he didn't send his...  he threw him in a rocket and hurriedly fired i... and then radioactive pieces of Heaven become Ch... the \"\"crucifixion\"\" scene where Luthor stabs Su... my last major complaint has to do with Singer's... cold-hearted business tycoon who is more apt to... not wreck everything. Yet the Luthor we see Sup... as well as all the previous Superman movies        is a wacky theatrical dunce who comes up with z... this film might not be such an unbearable trave... I don't know what I hate more                      the movie itself or the fact that so many peopl... but if you don't hate this movie then your opin... don't buy it when it comes out on DVD              don't rent it...basically don't contribute any ... I think that for every person that sees this movie Bryan Singer should be fined 45 billion dollars...   just bend over and have someone kick you in t...   \n",
            "\"The screenplay is the worst part of this film     as it lurches from one premise to the next         missing all the important bits that would have ... because the audience doesn't know what the stor... but this is telly                                  so it was fine. I don't mind if some scenes loo... it needed a voice-over to fill in all the detai... it wasn't clear what was happening                 ie. The Russian Revolution was reduced to \"\"Som... with the next scene being soldiers arresting th...  so I could fill in the details                    \"\"those pesky Communists\"\". The prologue is bes... a love so strong                                   it'll believe anything she says. Okay              a soppy romance. No                                because it makes no sense. The love interest se... sleazy) lunatic                                    bursting out in wild gestures. This also doesn'... because the film stupidly decides to tell the t... I was never convinced of the reason that they w... despite there only being one or two scenes whic... and she struggles to prove her identity. No        the court case is summed up rather than dealt w... again to fill in the details of a better film.<... she had bouts of lunatic behaviour. None of thi... she vanishes                                                    having brought nothing to the story.\"   \n",
            "\"This is like a zoology textbook                   given that its depiction of animals is so accur... here are a few details that appear to have been... bullets just won't go near it.<br /><br />- The... or a giant Komodo dragon                           is just to stand there. The exception to this r... in which case you should run off                   until the Komodo is right next to you              and then you should stand there                    expecting defeat.<br /><br />- Minutes of chopp... 000 is a memory enhancement tool                   and an ample substitute for losing your boating... a reporter and a cameraman with one camera is a... a second camera                                    microphones etc are all superfluous.<br /><br /... and one person has a gun                           he should take it out and point it at the neare... the sound of the safety being taken off will be... even if your finger is nowhere near the safety<... and then more than that in the next clip. Despi... those with guns claim that they will need more ... remember that the reporter only has one camera)... thus making it unsafe                              takes a team into a building made of the same m... but don't grow at all in the weeks either side.... they just keep shooting into the air.<br /><br ...   the greater your chance of surviving giant cr...   \n",
            "\n",
            "                                                                                                                                                                                                                                                                                                                                                                                                                                                                                                                                                                                                                                                                                                                                                                                                                                                                                                                                                                                                                                                                                                                                                                                                                                                                                                                                                                              sentiment  \n",
            "\"One of the other reviewers has mentioned that ... as this is exactly what happened with me.<br />... which set in right from the word GO. Trust me      this is not a show for the faint hearted or tim... sex or violence. Its is hardcore                   in the classic use of the word.<br /><br />It i... an experimental section of the prison where all... so privacy is not high on the agenda. Em City i... Muslims                                            gangstas                                            Latinos                                           Christians                                         Italians                                           Irish and more....so scuffles                      death stares                                       dodgy dealings and shady agreements are never f... forget charm                                       forget romance...OZ doesn't mess around. The fi... I couldn't say I was ready for it                  but as I watched more                              I developed a taste for Oz                         and got accustomed to the high levels of graphi... but injustice (crooked guards who'll be sold ou... inmates who'll kill on order and get away with it  well mannered                                      middle class inmates being turned into prison b...  positive  \n",
            "\"Gamers: DR is not a fancy made movie              it's more like amateur video. Horrible magic ef... really fake fireball                               terribly made dungeon                              castle                                             village...... sword                                axe                                                shield                                             robe                                               plate..... okok... everything. You will need ab...  then you will get 105 minutes of fun.<br /><br... none of my friends play RPG and I always fancy ... dices                                              game set                                           etc etc etc; You hear terms like \"\"fighter\"\"       \"\"wizard\"\"                                         \"\"hit point\"\"                                      \"\"level\"\"                                          \"\"character\"\"                                      \"\"flaming hand\"\"                                   \"\"Chaotic Evil\"\".<br /><br />What RPG fancy me ... not bonded by software RPG. Gamers: DR provide ... you wont know what happen next and it probably ... which make you feel you really participle in th... but in short                                       Gamers: DR is a must watch movie for RPG lovers...  positive  \n",
            "\"First                                             let me just comment on what I liked about the m... and very rarely did I feel like I was watching ... that is the last nice thing I have to say about... I would just like everyone reading this to take... but four major complaints jump to mind. My firs... I almost got up and left the theater. Singer co... but when Superman is exposed to even a small am... and then go to sleep in kryptonite pajamas. Tha... he was just a scientist. And he didn't send his...  he threw him in a rocket and hurriedly fired i... and then radioactive pieces of Heaven become Ch... the \"\"crucifixion\"\" scene where Luthor stabs Su... my last major complaint has to do with Singer's... cold-hearted business tycoon who is more apt to... not wreck everything. Yet the Luthor we see Sup... as well as all the previous Superman movies        is a wacky theatrical dunce who comes up with z... this film might not be such an unbearable trave... I don't know what I hate more                      the movie itself or the fact that so many peopl... but if you don't hate this movie then your opin... don't buy it when it comes out on DVD              don't rent it...basically don't contribute any ... I think that for every person that sees this movie Bryan Singer should be fined 45 billion dollars...  negative  \n",
            "\"The screenplay is the worst part of this film     as it lurches from one premise to the next         missing all the important bits that would have ... because the audience doesn't know what the stor... but this is telly                                  so it was fine. I don't mind if some scenes loo... it needed a voice-over to fill in all the detai... it wasn't clear what was happening                 ie. The Russian Revolution was reduced to \"\"Som... with the next scene being soldiers arresting th...  so I could fill in the details                    \"\"those pesky Communists\"\". The prologue is bes... a love so strong                                   it'll believe anything she says. Okay              a soppy romance. No                                because it makes no sense. The love interest se... sleazy) lunatic                                    bursting out in wild gestures. This also doesn'... because the film stupidly decides to tell the t... I was never convinced of the reason that they w... despite there only being one or two scenes whic... and she struggles to prove her identity. No        the court case is summed up rather than dealt w... again to fill in the details of a better film.<... she had bouts of lunatic behaviour. None of thi... she vanishes                                        negative  \n",
            "\"This is like a zoology textbook                   given that its depiction of animals is so accur... here are a few details that appear to have been... bullets just won't go near it.<br /><br />- The... or a giant Komodo dragon                           is just to stand there. The exception to this r... in which case you should run off                   until the Komodo is right next to you              and then you should stand there                    expecting defeat.<br /><br />- Minutes of chopp... 000 is a memory enhancement tool                   and an ample substitute for losing your boating... a reporter and a cameraman with one camera is a... a second camera                                    microphones etc are all superfluous.<br /><br /... and one person has a gun                           he should take it out and point it at the neare... the sound of the safety being taken off will be... even if your finger is nowhere near the safety<... and then more than that in the next clip. Despi... those with guns claim that they will need more ... remember that the reporter only has one camera)... thus making it unsafe                              takes a team into a building made of the same m... but don't grow at all in the weeks either side.... they just keep shooting into the air.<br /><br ...  negative  \n",
            "Dataset Shape: (357, 2)\n"
          ]
        }
      ],
      "source": [
        "# Load the dataset, handling potential quote issues\n",
        "# Use on_bad_lines='skip' instead of error_bad_lines=False to skip bad lines\n",
        "df = pd.read_csv(\"/content/IMDB_dataset-1.csv\", quoting=3, on_bad_lines='skip')\n",
        "\n",
        "# Drop rows with NaN values in the 'sentiment' column\n",
        "df = df.dropna(subset=['sentiment'])\n",
        "\n",
        "# Display the first few rows\n",
        "print(df.head())\n",
        "\n",
        "# Check the shape of the dataset\n",
        "print(\"Dataset Shape:\", df.shape)"
      ]
    },
    {
      "cell_type": "markdown",
      "id": "cacf0bbc",
      "metadata": {
        "id": "cacf0bbc"
      },
      "source": [
        "### Data Preprocessing:"
      ]
    },
    {
      "cell_type": "code",
      "execution_count": null,
      "id": "24118e12",
      "metadata": {
        "colab": {
          "base_uri": "https://localhost:8080/"
        },
        "id": "24118e12",
        "outputId": "e9c4bccc-5ca3-4f9e-a0ce-d67c80e61d42"
      },
      "outputs": [
        {
          "output_type": "stream",
          "name": "stderr",
          "text": [
            "[nltk_data] Downloading package punkt_tab to /root/nltk_data...\n",
            "[nltk_data]   Package punkt_tab is already up-to-date!\n",
            "[nltk_data] Downloading package stopwords to /root/nltk_data...\n",
            "[nltk_data]   Package stopwords is already up-to-date!\n"
          ]
        }
      ],
      "source": [
        "# Tokenization and cleaning\n",
        "nltk.download('punkt_tab')\n",
        "nltk.download('stopwords')\n",
        "stop_words = set(stopwords.words('english'))\n",
        "\n",
        "def preprocess_text(text):\n",
        "    # Check if text is a string before processing\n",
        "    if isinstance(text, str):\n",
        "        # Tokenize the text\n",
        "        words = nltk.word_tokenize(text)\n",
        "\n",
        "        # Remove stopwords and non-alphabetic characters\n",
        "        cleaned_words = [word.lower() for word in words if word.isalpha() and word not in stop_words]\n",
        "\n",
        "        return ' '.join(cleaned_words)\n",
        "    else:\n",
        "        # Handle non-string values (e.g., NaN) by returning an empty string\n",
        "        return ''\n",
        "\n",
        "# Apply preprocessing to the 'review' column\n",
        "df['cleaned_review'] = df['review'].apply(preprocess_text)\n"
      ]
    },
    {
      "cell_type": "markdown",
      "id": "71937c03",
      "metadata": {
        "id": "71937c03"
      },
      "source": [
        "### Split the dataset into training and testing sets:"
      ]
    },
    {
      "cell_type": "code",
      "execution_count": null,
      "id": "32fe2c61",
      "metadata": {
        "id": "32fe2c61"
      },
      "outputs": [],
      "source": [
        "X = df['cleaned_review']\n",
        "y = df['sentiment']\n",
        "\n",
        "X_train, X_test, y_train, y_test = train_test_split(X, y, test_size=0.2, random_state=42)\n"
      ]
    },
    {
      "cell_type": "markdown",
      "id": "1ed6484d",
      "metadata": {
        "id": "1ed6484d"
      },
      "source": [
        "### Feature Extraction:"
      ]
    },
    {
      "cell_type": "code",
      "execution_count": null,
      "id": "0c65f6bf",
      "metadata": {
        "id": "0c65f6bf"
      },
      "outputs": [],
      "source": [
        "vectorizer = CountVectorizer()\n",
        "X_train_bow = vectorizer.fit_transform(X_train)\n",
        "X_test_bow = vectorizer.transform(X_test)\n"
      ]
    },
    {
      "cell_type": "markdown",
      "id": "df3db440",
      "metadata": {
        "id": "df3db440"
      },
      "source": [
        "### Build and train a sentiment analysis model:"
      ]
    },
    {
      "cell_type": "code",
      "execution_count": null,
      "id": "6e82230a",
      "metadata": {
        "id": "6e82230a",
        "outputId": "ce5f6de9-6d05-42e1-ede8-6c2b2e01ed80",
        "colab": {
          "base_uri": "https://localhost:8080/",
          "height": 80
        }
      },
      "outputs": [
        {
          "output_type": "execute_result",
          "data": {
            "text/plain": [
              "MultinomialNB()"
            ],
            "text/html": [
              "<style>#sk-container-id-1 {\n",
              "  /* Definition of color scheme common for light and dark mode */\n",
              "  --sklearn-color-text: #000;\n",
              "  --sklearn-color-text-muted: #666;\n",
              "  --sklearn-color-line: gray;\n",
              "  /* Definition of color scheme for unfitted estimators */\n",
              "  --sklearn-color-unfitted-level-0: #fff5e6;\n",
              "  --sklearn-color-unfitted-level-1: #f6e4d2;\n",
              "  --sklearn-color-unfitted-level-2: #ffe0b3;\n",
              "  --sklearn-color-unfitted-level-3: chocolate;\n",
              "  /* Definition of color scheme for fitted estimators */\n",
              "  --sklearn-color-fitted-level-0: #f0f8ff;\n",
              "  --sklearn-color-fitted-level-1: #d4ebff;\n",
              "  --sklearn-color-fitted-level-2: #b3dbfd;\n",
              "  --sklearn-color-fitted-level-3: cornflowerblue;\n",
              "\n",
              "  /* Specific color for light theme */\n",
              "  --sklearn-color-text-on-default-background: var(--sg-text-color, var(--theme-code-foreground, var(--jp-content-font-color1, black)));\n",
              "  --sklearn-color-background: var(--sg-background-color, var(--theme-background, var(--jp-layout-color0, white)));\n",
              "  --sklearn-color-border-box: var(--sg-text-color, var(--theme-code-foreground, var(--jp-content-font-color1, black)));\n",
              "  --sklearn-color-icon: #696969;\n",
              "\n",
              "  @media (prefers-color-scheme: dark) {\n",
              "    /* Redefinition of color scheme for dark theme */\n",
              "    --sklearn-color-text-on-default-background: var(--sg-text-color, var(--theme-code-foreground, var(--jp-content-font-color1, white)));\n",
              "    --sklearn-color-background: var(--sg-background-color, var(--theme-background, var(--jp-layout-color0, #111)));\n",
              "    --sklearn-color-border-box: var(--sg-text-color, var(--theme-code-foreground, var(--jp-content-font-color1, white)));\n",
              "    --sklearn-color-icon: #878787;\n",
              "  }\n",
              "}\n",
              "\n",
              "#sk-container-id-1 {\n",
              "  color: var(--sklearn-color-text);\n",
              "}\n",
              "\n",
              "#sk-container-id-1 pre {\n",
              "  padding: 0;\n",
              "}\n",
              "\n",
              "#sk-container-id-1 input.sk-hidden--visually {\n",
              "  border: 0;\n",
              "  clip: rect(1px 1px 1px 1px);\n",
              "  clip: rect(1px, 1px, 1px, 1px);\n",
              "  height: 1px;\n",
              "  margin: -1px;\n",
              "  overflow: hidden;\n",
              "  padding: 0;\n",
              "  position: absolute;\n",
              "  width: 1px;\n",
              "}\n",
              "\n",
              "#sk-container-id-1 div.sk-dashed-wrapped {\n",
              "  border: 1px dashed var(--sklearn-color-line);\n",
              "  margin: 0 0.4em 0.5em 0.4em;\n",
              "  box-sizing: border-box;\n",
              "  padding-bottom: 0.4em;\n",
              "  background-color: var(--sklearn-color-background);\n",
              "}\n",
              "\n",
              "#sk-container-id-1 div.sk-container {\n",
              "  /* jupyter's `normalize.less` sets `[hidden] { display: none; }`\n",
              "     but bootstrap.min.css set `[hidden] { display: none !important; }`\n",
              "     so we also need the `!important` here to be able to override the\n",
              "     default hidden behavior on the sphinx rendered scikit-learn.org.\n",
              "     See: https://github.com/scikit-learn/scikit-learn/issues/21755 */\n",
              "  display: inline-block !important;\n",
              "  position: relative;\n",
              "}\n",
              "\n",
              "#sk-container-id-1 div.sk-text-repr-fallback {\n",
              "  display: none;\n",
              "}\n",
              "\n",
              "div.sk-parallel-item,\n",
              "div.sk-serial,\n",
              "div.sk-item {\n",
              "  /* draw centered vertical line to link estimators */\n",
              "  background-image: linear-gradient(var(--sklearn-color-text-on-default-background), var(--sklearn-color-text-on-default-background));\n",
              "  background-size: 2px 100%;\n",
              "  background-repeat: no-repeat;\n",
              "  background-position: center center;\n",
              "}\n",
              "\n",
              "/* Parallel-specific style estimator block */\n",
              "\n",
              "#sk-container-id-1 div.sk-parallel-item::after {\n",
              "  content: \"\";\n",
              "  width: 100%;\n",
              "  border-bottom: 2px solid var(--sklearn-color-text-on-default-background);\n",
              "  flex-grow: 1;\n",
              "}\n",
              "\n",
              "#sk-container-id-1 div.sk-parallel {\n",
              "  display: flex;\n",
              "  align-items: stretch;\n",
              "  justify-content: center;\n",
              "  background-color: var(--sklearn-color-background);\n",
              "  position: relative;\n",
              "}\n",
              "\n",
              "#sk-container-id-1 div.sk-parallel-item {\n",
              "  display: flex;\n",
              "  flex-direction: column;\n",
              "}\n",
              "\n",
              "#sk-container-id-1 div.sk-parallel-item:first-child::after {\n",
              "  align-self: flex-end;\n",
              "  width: 50%;\n",
              "}\n",
              "\n",
              "#sk-container-id-1 div.sk-parallel-item:last-child::after {\n",
              "  align-self: flex-start;\n",
              "  width: 50%;\n",
              "}\n",
              "\n",
              "#sk-container-id-1 div.sk-parallel-item:only-child::after {\n",
              "  width: 0;\n",
              "}\n",
              "\n",
              "/* Serial-specific style estimator block */\n",
              "\n",
              "#sk-container-id-1 div.sk-serial {\n",
              "  display: flex;\n",
              "  flex-direction: column;\n",
              "  align-items: center;\n",
              "  background-color: var(--sklearn-color-background);\n",
              "  padding-right: 1em;\n",
              "  padding-left: 1em;\n",
              "}\n",
              "\n",
              "\n",
              "/* Toggleable style: style used for estimator/Pipeline/ColumnTransformer box that is\n",
              "clickable and can be expanded/collapsed.\n",
              "- Pipeline and ColumnTransformer use this feature and define the default style\n",
              "- Estimators will overwrite some part of the style using the `sk-estimator` class\n",
              "*/\n",
              "\n",
              "/* Pipeline and ColumnTransformer style (default) */\n",
              "\n",
              "#sk-container-id-1 div.sk-toggleable {\n",
              "  /* Default theme specific background. It is overwritten whether we have a\n",
              "  specific estimator or a Pipeline/ColumnTransformer */\n",
              "  background-color: var(--sklearn-color-background);\n",
              "}\n",
              "\n",
              "/* Toggleable label */\n",
              "#sk-container-id-1 label.sk-toggleable__label {\n",
              "  cursor: pointer;\n",
              "  display: flex;\n",
              "  width: 100%;\n",
              "  margin-bottom: 0;\n",
              "  padding: 0.5em;\n",
              "  box-sizing: border-box;\n",
              "  text-align: center;\n",
              "  align-items: start;\n",
              "  justify-content: space-between;\n",
              "  gap: 0.5em;\n",
              "}\n",
              "\n",
              "#sk-container-id-1 label.sk-toggleable__label .caption {\n",
              "  font-size: 0.6rem;\n",
              "  font-weight: lighter;\n",
              "  color: var(--sklearn-color-text-muted);\n",
              "}\n",
              "\n",
              "#sk-container-id-1 label.sk-toggleable__label-arrow:before {\n",
              "  /* Arrow on the left of the label */\n",
              "  content: \"▸\";\n",
              "  float: left;\n",
              "  margin-right: 0.25em;\n",
              "  color: var(--sklearn-color-icon);\n",
              "}\n",
              "\n",
              "#sk-container-id-1 label.sk-toggleable__label-arrow:hover:before {\n",
              "  color: var(--sklearn-color-text);\n",
              "}\n",
              "\n",
              "/* Toggleable content - dropdown */\n",
              "\n",
              "#sk-container-id-1 div.sk-toggleable__content {\n",
              "  max-height: 0;\n",
              "  max-width: 0;\n",
              "  overflow: hidden;\n",
              "  text-align: left;\n",
              "  /* unfitted */\n",
              "  background-color: var(--sklearn-color-unfitted-level-0);\n",
              "}\n",
              "\n",
              "#sk-container-id-1 div.sk-toggleable__content.fitted {\n",
              "  /* fitted */\n",
              "  background-color: var(--sklearn-color-fitted-level-0);\n",
              "}\n",
              "\n",
              "#sk-container-id-1 div.sk-toggleable__content pre {\n",
              "  margin: 0.2em;\n",
              "  border-radius: 0.25em;\n",
              "  color: var(--sklearn-color-text);\n",
              "  /* unfitted */\n",
              "  background-color: var(--sklearn-color-unfitted-level-0);\n",
              "}\n",
              "\n",
              "#sk-container-id-1 div.sk-toggleable__content.fitted pre {\n",
              "  /* unfitted */\n",
              "  background-color: var(--sklearn-color-fitted-level-0);\n",
              "}\n",
              "\n",
              "#sk-container-id-1 input.sk-toggleable__control:checked~div.sk-toggleable__content {\n",
              "  /* Expand drop-down */\n",
              "  max-height: 200px;\n",
              "  max-width: 100%;\n",
              "  overflow: auto;\n",
              "}\n",
              "\n",
              "#sk-container-id-1 input.sk-toggleable__control:checked~label.sk-toggleable__label-arrow:before {\n",
              "  content: \"▾\";\n",
              "}\n",
              "\n",
              "/* Pipeline/ColumnTransformer-specific style */\n",
              "\n",
              "#sk-container-id-1 div.sk-label input.sk-toggleable__control:checked~label.sk-toggleable__label {\n",
              "  color: var(--sklearn-color-text);\n",
              "  background-color: var(--sklearn-color-unfitted-level-2);\n",
              "}\n",
              "\n",
              "#sk-container-id-1 div.sk-label.fitted input.sk-toggleable__control:checked~label.sk-toggleable__label {\n",
              "  background-color: var(--sklearn-color-fitted-level-2);\n",
              "}\n",
              "\n",
              "/* Estimator-specific style */\n",
              "\n",
              "/* Colorize estimator box */\n",
              "#sk-container-id-1 div.sk-estimator input.sk-toggleable__control:checked~label.sk-toggleable__label {\n",
              "  /* unfitted */\n",
              "  background-color: var(--sklearn-color-unfitted-level-2);\n",
              "}\n",
              "\n",
              "#sk-container-id-1 div.sk-estimator.fitted input.sk-toggleable__control:checked~label.sk-toggleable__label {\n",
              "  /* fitted */\n",
              "  background-color: var(--sklearn-color-fitted-level-2);\n",
              "}\n",
              "\n",
              "#sk-container-id-1 div.sk-label label.sk-toggleable__label,\n",
              "#sk-container-id-1 div.sk-label label {\n",
              "  /* The background is the default theme color */\n",
              "  color: var(--sklearn-color-text-on-default-background);\n",
              "}\n",
              "\n",
              "/* On hover, darken the color of the background */\n",
              "#sk-container-id-1 div.sk-label:hover label.sk-toggleable__label {\n",
              "  color: var(--sklearn-color-text);\n",
              "  background-color: var(--sklearn-color-unfitted-level-2);\n",
              "}\n",
              "\n",
              "/* Label box, darken color on hover, fitted */\n",
              "#sk-container-id-1 div.sk-label.fitted:hover label.sk-toggleable__label.fitted {\n",
              "  color: var(--sklearn-color-text);\n",
              "  background-color: var(--sklearn-color-fitted-level-2);\n",
              "}\n",
              "\n",
              "/* Estimator label */\n",
              "\n",
              "#sk-container-id-1 div.sk-label label {\n",
              "  font-family: monospace;\n",
              "  font-weight: bold;\n",
              "  display: inline-block;\n",
              "  line-height: 1.2em;\n",
              "}\n",
              "\n",
              "#sk-container-id-1 div.sk-label-container {\n",
              "  text-align: center;\n",
              "}\n",
              "\n",
              "/* Estimator-specific */\n",
              "#sk-container-id-1 div.sk-estimator {\n",
              "  font-family: monospace;\n",
              "  border: 1px dotted var(--sklearn-color-border-box);\n",
              "  border-radius: 0.25em;\n",
              "  box-sizing: border-box;\n",
              "  margin-bottom: 0.5em;\n",
              "  /* unfitted */\n",
              "  background-color: var(--sklearn-color-unfitted-level-0);\n",
              "}\n",
              "\n",
              "#sk-container-id-1 div.sk-estimator.fitted {\n",
              "  /* fitted */\n",
              "  background-color: var(--sklearn-color-fitted-level-0);\n",
              "}\n",
              "\n",
              "/* on hover */\n",
              "#sk-container-id-1 div.sk-estimator:hover {\n",
              "  /* unfitted */\n",
              "  background-color: var(--sklearn-color-unfitted-level-2);\n",
              "}\n",
              "\n",
              "#sk-container-id-1 div.sk-estimator.fitted:hover {\n",
              "  /* fitted */\n",
              "  background-color: var(--sklearn-color-fitted-level-2);\n",
              "}\n",
              "\n",
              "/* Specification for estimator info (e.g. \"i\" and \"?\") */\n",
              "\n",
              "/* Common style for \"i\" and \"?\" */\n",
              "\n",
              ".sk-estimator-doc-link,\n",
              "a:link.sk-estimator-doc-link,\n",
              "a:visited.sk-estimator-doc-link {\n",
              "  float: right;\n",
              "  font-size: smaller;\n",
              "  line-height: 1em;\n",
              "  font-family: monospace;\n",
              "  background-color: var(--sklearn-color-background);\n",
              "  border-radius: 1em;\n",
              "  height: 1em;\n",
              "  width: 1em;\n",
              "  text-decoration: none !important;\n",
              "  margin-left: 0.5em;\n",
              "  text-align: center;\n",
              "  /* unfitted */\n",
              "  border: var(--sklearn-color-unfitted-level-1) 1pt solid;\n",
              "  color: var(--sklearn-color-unfitted-level-1);\n",
              "}\n",
              "\n",
              ".sk-estimator-doc-link.fitted,\n",
              "a:link.sk-estimator-doc-link.fitted,\n",
              "a:visited.sk-estimator-doc-link.fitted {\n",
              "  /* fitted */\n",
              "  border: var(--sklearn-color-fitted-level-1) 1pt solid;\n",
              "  color: var(--sklearn-color-fitted-level-1);\n",
              "}\n",
              "\n",
              "/* On hover */\n",
              "div.sk-estimator:hover .sk-estimator-doc-link:hover,\n",
              ".sk-estimator-doc-link:hover,\n",
              "div.sk-label-container:hover .sk-estimator-doc-link:hover,\n",
              ".sk-estimator-doc-link:hover {\n",
              "  /* unfitted */\n",
              "  background-color: var(--sklearn-color-unfitted-level-3);\n",
              "  color: var(--sklearn-color-background);\n",
              "  text-decoration: none;\n",
              "}\n",
              "\n",
              "div.sk-estimator.fitted:hover .sk-estimator-doc-link.fitted:hover,\n",
              ".sk-estimator-doc-link.fitted:hover,\n",
              "div.sk-label-container:hover .sk-estimator-doc-link.fitted:hover,\n",
              ".sk-estimator-doc-link.fitted:hover {\n",
              "  /* fitted */\n",
              "  background-color: var(--sklearn-color-fitted-level-3);\n",
              "  color: var(--sklearn-color-background);\n",
              "  text-decoration: none;\n",
              "}\n",
              "\n",
              "/* Span, style for the box shown on hovering the info icon */\n",
              ".sk-estimator-doc-link span {\n",
              "  display: none;\n",
              "  z-index: 9999;\n",
              "  position: relative;\n",
              "  font-weight: normal;\n",
              "  right: .2ex;\n",
              "  padding: .5ex;\n",
              "  margin: .5ex;\n",
              "  width: min-content;\n",
              "  min-width: 20ex;\n",
              "  max-width: 50ex;\n",
              "  color: var(--sklearn-color-text);\n",
              "  box-shadow: 2pt 2pt 4pt #999;\n",
              "  /* unfitted */\n",
              "  background: var(--sklearn-color-unfitted-level-0);\n",
              "  border: .5pt solid var(--sklearn-color-unfitted-level-3);\n",
              "}\n",
              "\n",
              ".sk-estimator-doc-link.fitted span {\n",
              "  /* fitted */\n",
              "  background: var(--sklearn-color-fitted-level-0);\n",
              "  border: var(--sklearn-color-fitted-level-3);\n",
              "}\n",
              "\n",
              ".sk-estimator-doc-link:hover span {\n",
              "  display: block;\n",
              "}\n",
              "\n",
              "/* \"?\"-specific style due to the `<a>` HTML tag */\n",
              "\n",
              "#sk-container-id-1 a.estimator_doc_link {\n",
              "  float: right;\n",
              "  font-size: 1rem;\n",
              "  line-height: 1em;\n",
              "  font-family: monospace;\n",
              "  background-color: var(--sklearn-color-background);\n",
              "  border-radius: 1rem;\n",
              "  height: 1rem;\n",
              "  width: 1rem;\n",
              "  text-decoration: none;\n",
              "  /* unfitted */\n",
              "  color: var(--sklearn-color-unfitted-level-1);\n",
              "  border: var(--sklearn-color-unfitted-level-1) 1pt solid;\n",
              "}\n",
              "\n",
              "#sk-container-id-1 a.estimator_doc_link.fitted {\n",
              "  /* fitted */\n",
              "  border: var(--sklearn-color-fitted-level-1) 1pt solid;\n",
              "  color: var(--sklearn-color-fitted-level-1);\n",
              "}\n",
              "\n",
              "/* On hover */\n",
              "#sk-container-id-1 a.estimator_doc_link:hover {\n",
              "  /* unfitted */\n",
              "  background-color: var(--sklearn-color-unfitted-level-3);\n",
              "  color: var(--sklearn-color-background);\n",
              "  text-decoration: none;\n",
              "}\n",
              "\n",
              "#sk-container-id-1 a.estimator_doc_link.fitted:hover {\n",
              "  /* fitted */\n",
              "  background-color: var(--sklearn-color-fitted-level-3);\n",
              "}\n",
              "</style><div id=\"sk-container-id-1\" class=\"sk-top-container\"><div class=\"sk-text-repr-fallback\"><pre>MultinomialNB()</pre><b>In a Jupyter environment, please rerun this cell to show the HTML representation or trust the notebook. <br />On GitHub, the HTML representation is unable to render, please try loading this page with nbviewer.org.</b></div><div class=\"sk-container\" hidden><div class=\"sk-item\"><div class=\"sk-estimator fitted sk-toggleable\"><input class=\"sk-toggleable__control sk-hidden--visually\" id=\"sk-estimator-id-1\" type=\"checkbox\" checked><label for=\"sk-estimator-id-1\" class=\"sk-toggleable__label fitted sk-toggleable__label-arrow\"><div><div>MultinomialNB</div></div><div><a class=\"sk-estimator-doc-link fitted\" rel=\"noreferrer\" target=\"_blank\" href=\"https://scikit-learn.org/1.6/modules/generated/sklearn.naive_bayes.MultinomialNB.html\">?<span>Documentation for MultinomialNB</span></a><span class=\"sk-estimator-doc-link fitted\">i<span>Fitted</span></span></div></label><div class=\"sk-toggleable__content fitted\"><pre>MultinomialNB()</pre></div> </div></div></div></div>"
            ]
          },
          "metadata": {},
          "execution_count": 14
        }
      ],
      "source": [
        "model = MultinomialNB()\n",
        "model.fit(X_train_bow, y_train)"
      ]
    },
    {
      "cell_type": "markdown",
      "id": "67b88470",
      "metadata": {
        "id": "67b88470"
      },
      "source": [
        "### Make predictions and evaluate the model:"
      ]
    },
    {
      "cell_type": "code",
      "execution_count": null,
      "id": "1f211aa6",
      "metadata": {
        "id": "1f211aa6",
        "outputId": "417266db-8b2e-4b0e-b8ae-9c05ae0942e1",
        "colab": {
          "base_uri": "https://localhost:8080/"
        }
      },
      "outputs": [
        {
          "output_type": "stream",
          "name": "stdout",
          "text": [
            "Accuracy: 0.6111111111111112\n",
            "Classification Report:\n",
            "               precision    recall  f1-score   support\n",
            "\n",
            "    negative       0.62      0.62      0.62        37\n",
            "    positive       0.60      0.60      0.60        35\n",
            "\n",
            "    accuracy                           0.61        72\n",
            "   macro avg       0.61      0.61      0.61        72\n",
            "weighted avg       0.61      0.61      0.61        72\n",
            "\n"
          ]
        }
      ],
      "source": [
        "y_pred = model.predict(X_test_bow)\n",
        "\n",
        "accuracy = accuracy_score(y_test, y_pred)\n",
        "report = classification_report(y_test, y_pred)\n",
        "\n",
        "print(\"Accuracy:\", accuracy)\n",
        "print(\"Classification Report:\\n\", report)"
      ]
    },
    {
      "cell_type": "code",
      "execution_count": null,
      "id": "ba80432f",
      "metadata": {
        "id": "ba80432f"
      },
      "outputs": [],
      "source": []
    },
    {
      "cell_type": "markdown",
      "id": "d16343d5",
      "metadata": {
        "id": "d16343d5"
      },
      "source": [
        "## Interpretation:\n",
        "\n",
        "Accuracy: The model is correct about 86% of the time when predicting if a review is positive or negative.\n",
        "\n",
        "Precision: When the model predicts a review as \"negative\":\n",
        "\n",
        "It's right about 84% of the time.\n",
        "When a review is actually negative, it catches 88% of them.\n",
        "Precision: When the model predicts a review as \"positive\":\n",
        "\n",
        "It's right about 87% of the time.\n",
        "When a review is actually positive, it catches 84% of them.\n",
        "F1-score: This number combines both precision and recall. It's a balanced measure of correctness.\n",
        "\n",
        "Support: The number of reviews in each category (negative or positive)."
      ]
    },
    {
      "cell_type": "code",
      "execution_count": null,
      "id": "f03a8f66",
      "metadata": {
        "id": "f03a8f66"
      },
      "outputs": [],
      "source": []
    },
    {
      "cell_type": "code",
      "execution_count": null,
      "id": "66b31ee5",
      "metadata": {
        "id": "66b31ee5"
      },
      "outputs": [],
      "source": []
    },
    {
      "cell_type": "code",
      "execution_count": null,
      "id": "b1719266",
      "metadata": {
        "id": "b1719266"
      },
      "outputs": [],
      "source": []
    },
    {
      "cell_type": "code",
      "execution_count": null,
      "id": "4a19664a",
      "metadata": {
        "id": "4a19664a"
      },
      "outputs": [],
      "source": []
    },
    {
      "cell_type": "code",
      "execution_count": null,
      "id": "7e2a5101",
      "metadata": {
        "id": "7e2a5101"
      },
      "outputs": [],
      "source": []
    },
    {
      "cell_type": "code",
      "execution_count": null,
      "id": "d7168c61",
      "metadata": {
        "id": "d7168c61"
      },
      "outputs": [],
      "source": []
    },
    {
      "cell_type": "code",
      "execution_count": null,
      "id": "150ad86e",
      "metadata": {
        "id": "150ad86e"
      },
      "outputs": [],
      "source": []
    },
    {
      "cell_type": "code",
      "execution_count": null,
      "id": "abcc69fe",
      "metadata": {
        "id": "abcc69fe"
      },
      "outputs": [],
      "source": []
    },
    {
      "cell_type": "code",
      "execution_count": null,
      "id": "033c8679",
      "metadata": {
        "id": "033c8679"
      },
      "outputs": [],
      "source": []
    },
    {
      "cell_type": "code",
      "execution_count": null,
      "id": "d7f88a25",
      "metadata": {
        "id": "d7f88a25"
      },
      "outputs": [],
      "source": []
    },
    {
      "cell_type": "code",
      "execution_count": null,
      "id": "e55e8118",
      "metadata": {
        "id": "e55e8118"
      },
      "outputs": [],
      "source": []
    }
  ],
  "metadata": {
    "kernelspec": {
      "display_name": "Python 3 (ipykernel)",
      "language": "python",
      "name": "python3"
    },
    "language_info": {
      "codemirror_mode": {
        "name": "ipython",
        "version": 3
      },
      "file_extension": ".py",
      "mimetype": "text/x-python",
      "name": "python",
      "nbconvert_exporter": "python",
      "pygments_lexer": "ipython3",
      "version": "3.11.5"
    },
    "colab": {
      "provenance": [],
      "include_colab_link": true
    }
  },
  "nbformat": 4,
  "nbformat_minor": 5
}